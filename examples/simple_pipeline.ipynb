{
 "cells": [
  {
   "cell_type": "markdown",
   "source": [
    "In this notebook, we show a full example of how the `fairret` library might be used to train a PyTorch model with a fairness cost."
   ],
   "metadata": {
    "collapsed": false
   },
   "id": "46617c2b3a734bfb"
  },
  {
   "cell_type": "markdown",
   "source": [
    "# Loading some data\n",
    "To start, let's load some data where fair binary classification is desirable. We'll use the `folktables` [library](https://github.com/socialfoundations/folktables) and their example data of the 2018 [American Community Survey](https://www.census.gov/programs-surveys/acs) (ACS)."
   ],
   "metadata": {
    "collapsed": false
   },
   "id": "bb38ec7e99e970b8"
  },
  {
   "cell_type": "code",
   "execution_count": 1,
   "outputs": [],
   "source": [
    "from folktables import ACSDataSource\n",
    "\n",
    "data_source = ACSDataSource(survey_year='2018', horizon='1-Year', survey='person')\n",
    "ca_data = data_source.get_data(states=[\"AL\"], download=True)"
   ],
   "metadata": {
    "collapsed": false,
    "ExecuteTime": {
     "end_time": "2024-02-08T18:06:30.203634200Z",
     "start_time": "2024-02-08T18:06:29.044830800Z"
    }
   },
   "id": "f9d1ac35f79de8f7"
  },
  {
   "cell_type": "raw",
   "source": [
    "We specifically address the ACSIncome task, where we predict whether an individual's income is above $50,000."
   ],
   "metadata": {
    "collapsed": false
   },
   "id": "95e7af7af46a593e"
  },
  {
   "cell_type": "code",
   "execution_count": 2,
   "outputs": [
    {
     "data": {
      "text/plain": "  AGEP  WKHP  \\\n0   18  21.0   \n1   53  40.0   \n2   41  40.0   \n3   18   2.0   \n4   21  50.0   \n\n  COW_Employee of a private for-profit company or business, or of an individual, for wages, salary, or commissions  \\\n0                                               True                                                                 \n1                                              False                                                                 \n2                                               True                                                                 \n3                                              False                                                                 \n4                                              False                                                                 \n\n  COW_Employee of a private not-for-profit, tax-exempt, or charitable organization  \\\n0                                              False                                 \n1                                              False                                 \n2                                              False                                 \n3                                              False                                 \n4                                              False                                 \n\n  COW_Federal government employee  \\\n0                           False   \n1                            True   \n2                           False   \n3                           False   \n4                            True   \n\n  COW_Local government employee (city, county, etc.)  \\\n0                                              False   \n1                                              False   \n2                                              False   \n3                                              False   \n4                                              False   \n\n  COW_Self-employed in own incorporated business, professional practice or farm  \\\n0                                              False                              \n1                                              False                              \n2                                              False                              \n3                                              False                              \n4                                              False                              \n\n  COW_Self-employed in own not incorporated business, professional practice, or farm  \\\n0                                              False                                   \n1                                              False                                   \n2                                              False                                   \n3                                               True                                   \n4                                              False                                   \n\n  COW_State government employee  \\\n0                         False   \n1                         False   \n2                         False   \n3                         False   \n4                         False   \n\n  COW_Working without pay in family business or farm  ... SEX_Male  \\\n0                                              False  ...    False   \n1                                              False  ...     True   \n2                                              False  ...     True   \n3                                              False  ...    False   \n4                                              False  ...     True   \n\n  RAC1P_Alaska Native alone RAC1P_American Indian alone  \\\n0                     False                       False   \n1                     False                       False   \n2                     False                       False   \n3                     False                       False   \n4                     False                       False   \n\n  RAC1P_American Indian and Alaska Native tribes specified; or American Indian or Alaska Native, not specified and no other races  \\\n0                                              False                                                                                \n1                                              False                                                                                \n2                                              False                                                                                \n3                                              False                                                                                \n4                                              False                                                                                \n\n  RAC1P_Asian alone RAC1P_Black or African American alone  \\\n0             False                                  True   \n1             False                                 False   \n2             False                                 False   \n3             False                                 False   \n4             False                                 False   \n\n  RAC1P_Native Hawaiian and Other Pacific Islander alone  \\\n0                                              False       \n1                                              False       \n2                                              False       \n3                                              False       \n4                                              False       \n\n  RAC1P_Some Other Race alone RAC1P_Two or More Races RAC1P_White alone  \n0                       False                   False             False  \n1                       False                   False              True  \n2                       False                   False              True  \n3                       False                   False              True  \n4                       False                   False              True  \n\n[5 rows x 729 columns]",
      "text/html": "<div>\n<style scoped>\n    .dataframe tbody tr th:only-of-type {\n        vertical-align: middle;\n    }\n\n    .dataframe tbody tr th {\n        vertical-align: top;\n    }\n\n    .dataframe thead th {\n        text-align: right;\n    }\n</style>\n<table border=\"1\" class=\"dataframe\">\n  <thead>\n    <tr style=\"text-align: right;\">\n      <th></th>\n      <th>AGEP</th>\n      <th>WKHP</th>\n      <th>COW_Employee of a private for-profit company or business, or of an individual, for wages, salary, or commissions</th>\n      <th>COW_Employee of a private not-for-profit, tax-exempt, or charitable organization</th>\n      <th>COW_Federal government employee</th>\n      <th>COW_Local government employee (city, county, etc.)</th>\n      <th>COW_Self-employed in own incorporated business, professional practice or farm</th>\n      <th>COW_Self-employed in own not incorporated business, professional practice, or farm</th>\n      <th>COW_State government employee</th>\n      <th>COW_Working without pay in family business or farm</th>\n      <th>...</th>\n      <th>SEX_Male</th>\n      <th>RAC1P_Alaska Native alone</th>\n      <th>RAC1P_American Indian alone</th>\n      <th>RAC1P_American Indian and Alaska Native tribes specified; or American Indian or Alaska Native, not specified and no other races</th>\n      <th>RAC1P_Asian alone</th>\n      <th>RAC1P_Black or African American alone</th>\n      <th>RAC1P_Native Hawaiian and Other Pacific Islander alone</th>\n      <th>RAC1P_Some Other Race alone</th>\n      <th>RAC1P_Two or More Races</th>\n      <th>RAC1P_White alone</th>\n    </tr>\n  </thead>\n  <tbody>\n    <tr>\n      <th>0</th>\n      <td>18</td>\n      <td>21.0</td>\n      <td>True</td>\n      <td>False</td>\n      <td>False</td>\n      <td>False</td>\n      <td>False</td>\n      <td>False</td>\n      <td>False</td>\n      <td>False</td>\n      <td>...</td>\n      <td>False</td>\n      <td>False</td>\n      <td>False</td>\n      <td>False</td>\n      <td>False</td>\n      <td>True</td>\n      <td>False</td>\n      <td>False</td>\n      <td>False</td>\n      <td>False</td>\n    </tr>\n    <tr>\n      <th>1</th>\n      <td>53</td>\n      <td>40.0</td>\n      <td>False</td>\n      <td>False</td>\n      <td>True</td>\n      <td>False</td>\n      <td>False</td>\n      <td>False</td>\n      <td>False</td>\n      <td>False</td>\n      <td>...</td>\n      <td>True</td>\n      <td>False</td>\n      <td>False</td>\n      <td>False</td>\n      <td>False</td>\n      <td>False</td>\n      <td>False</td>\n      <td>False</td>\n      <td>False</td>\n      <td>True</td>\n    </tr>\n    <tr>\n      <th>2</th>\n      <td>41</td>\n      <td>40.0</td>\n      <td>True</td>\n      <td>False</td>\n      <td>False</td>\n      <td>False</td>\n      <td>False</td>\n      <td>False</td>\n      <td>False</td>\n      <td>False</td>\n      <td>...</td>\n      <td>True</td>\n      <td>False</td>\n      <td>False</td>\n      <td>False</td>\n      <td>False</td>\n      <td>False</td>\n      <td>False</td>\n      <td>False</td>\n      <td>False</td>\n      <td>True</td>\n    </tr>\n    <tr>\n      <th>3</th>\n      <td>18</td>\n      <td>2.0</td>\n      <td>False</td>\n      <td>False</td>\n      <td>False</td>\n      <td>False</td>\n      <td>False</td>\n      <td>True</td>\n      <td>False</td>\n      <td>False</td>\n      <td>...</td>\n      <td>False</td>\n      <td>False</td>\n      <td>False</td>\n      <td>False</td>\n      <td>False</td>\n      <td>False</td>\n      <td>False</td>\n      <td>False</td>\n      <td>False</td>\n      <td>True</td>\n    </tr>\n    <tr>\n      <th>4</th>\n      <td>21</td>\n      <td>50.0</td>\n      <td>False</td>\n      <td>False</td>\n      <td>True</td>\n      <td>False</td>\n      <td>False</td>\n      <td>False</td>\n      <td>False</td>\n      <td>False</td>\n      <td>...</td>\n      <td>True</td>\n      <td>False</td>\n      <td>False</td>\n      <td>False</td>\n      <td>False</td>\n      <td>False</td>\n      <td>False</td>\n      <td>False</td>\n      <td>False</td>\n      <td>True</td>\n    </tr>\n  </tbody>\n</table>\n<p>5 rows × 729 columns</p>\n</div>"
     },
     "execution_count": 2,
     "metadata": {},
     "output_type": "execute_result"
    }
   ],
   "source": [
    "from folktables import ACSIncome, generate_categories\n",
    "\n",
    "definition_df = data_source.get_definitions(download=True)\n",
    "categories = generate_categories(features=ACSIncome.features, definition_df=definition_df)\n",
    "\n",
    "ca_features, ca_labels, _ = ACSIncome.df_to_pandas(ca_data, categories=categories, dummies=True)\n",
    "ca_features.head()"
   ],
   "metadata": {
    "collapsed": false,
    "ExecuteTime": {
     "end_time": "2024-02-08T18:06:30.824742100Z",
     "start_time": "2024-02-08T18:06:30.204735600Z"
    }
   },
   "id": "a58a200cf2c54dc5"
  },
  {
   "cell_type": "markdown",
   "source": [
    "To keep things simple for now, let's only consider two sensitive groups: *male* and *female*."
   ],
   "metadata": {
    "collapsed": false
   },
   "id": "6b66945992b5370"
  },
  {
   "cell_type": "code",
   "execution_count": 3,
   "outputs": [
    {
     "name": "stdout",
     "output_type": "stream",
     "text": [
      "[0.47808514 0.52191486]\n"
     ]
    }
   ],
   "source": [
    "sens_cols = ['SEX_Female', 'SEX_Male']\n",
    "feat = ca_features.drop(columns=sens_cols).to_numpy(dtype=\"float\")\n",
    "sens = ca_features[sens_cols].to_numpy(dtype=\"float\")\n",
    "label = ca_labels.to_numpy(dtype=\"float\")\n",
    "\n",
    "print(sens.mean(axis=0))"
   ],
   "metadata": {
    "collapsed": false,
    "ExecuteTime": {
     "end_time": "2024-02-08T18:06:31.300359100Z",
     "start_time": "2024-02-08T18:06:30.824742100Z"
    }
   },
   "id": "a58012f8494eb69c"
  },
  {
   "cell_type": "markdown",
   "source": [
    "# A naive PyTorch pipeline\n",
    "\n",
    "The `fairret` library treats sensitive features in the same way 'normal' features are treated in PyTorch: as (N x D) tensors, where N is the number of samples and D the dimensionality. In contrast to other fairness libraries you may have used, we can therefore just leave categorical sensitive features as one-hot encoded!"
   ],
   "metadata": {
    "collapsed": false
   },
   "id": "2e4fc2e65d3eb308"
  },
  {
   "cell_type": "code",
   "execution_count": 4,
   "outputs": [
    {
     "name": "stdout",
     "output_type": "stream",
     "text": [
      "Shape of the 'normal' features tensor: torch.Size([22268, 727])\n",
      "Shape of the sensitive features tensor: torch.Size([22268, 2])\n",
      "Shape of the labels tensor: torch.Size([22268, 1])\n"
     ]
    }
   ],
   "source": [
    "import torch\n",
    "torch.manual_seed(0)\n",
    "feat, sens, label = torch.tensor(feat).float(), torch.tensor(sens).float(), torch.tensor(label).float()\n",
    "print(f\"Shape of the 'normal' features tensor: {feat.shape}\")\n",
    "print(f\"Shape of the sensitive features tensor: {sens.shape}\")\n",
    "print(f\"Shape of the labels tensor: {label.shape}\")"
   ],
   "metadata": {
    "collapsed": false,
    "ExecuteTime": {
     "end_time": "2024-02-08T18:06:32.784677100Z",
     "start_time": "2024-02-08T18:06:31.300359100Z"
    }
   },
   "id": "708d7de5a72046d2"
  },
  {
   "cell_type": "markdown",
   "source": [
    "In typical PyTorch fashion, let's now define a simple neural net with 1 hidden layer, an optimizer, and a DataLoader."
   ],
   "metadata": {
    "collapsed": false
   },
   "id": "c2b2b36e3b6b1c4d"
  },
  {
   "cell_type": "code",
   "execution_count": 5,
   "outputs": [],
   "source": [
    "h_layer_dim = 64\n",
    "lr = 1e-3\n",
    "batch_size = 1024\n",
    "\n",
    "model = torch.nn.Sequential(\n",
    "    torch.nn.Linear(feat.shape[1], h_layer_dim),\n",
    "    torch.nn.ReLU(),\n",
    "    torch.nn.Linear(h_layer_dim, 1)\n",
    ")\n",
    "optimizer = torch.optim.Adam(model.parameters(), lr=lr)\n",
    "\n",
    "from torch.utils.data import TensorDataset, DataLoader\n",
    "dataset = TensorDataset(feat, sens, label)\n",
    "dataloader = DataLoader(dataset, batch_size=batch_size)"
   ],
   "metadata": {
    "collapsed": false,
    "ExecuteTime": {
     "end_time": "2024-02-08T18:06:33.027889Z",
     "start_time": "2024-02-08T18:06:32.784167100Z"
    }
   },
   "id": "3b1d4337167c413e"
  },
  {
   "cell_type": "markdown",
   "source": [
    "Now, let's train it without doing any fairness adjustment..."
   ],
   "metadata": {
    "collapsed": false
   },
   "id": "4a9e4d246d0f16af"
  },
  {
   "cell_type": "code",
   "execution_count": 6,
   "outputs": [
    {
     "name": "stdout",
     "output_type": "stream",
     "text": [
      "Epoch: 0, loss: 0.6458532769571651\n",
      "Epoch: 1, loss: 0.6078289693052118\n",
      "Epoch: 2, loss: 0.573669055646116\n",
      "Epoch: 3, loss: 0.5372711365873163\n",
      "Epoch: 4, loss: 0.5028285180980508\n",
      "Epoch: 5, loss: 0.4751153832132166\n",
      "Epoch: 6, loss: 0.4543681049888784\n",
      "Epoch: 7, loss: 0.43935308808630164\n",
      "Epoch: 8, loss: 0.4283923831853\n",
      "Epoch: 9, loss: 0.42021786895665253\n"
     ]
    }
   ],
   "source": [
    "import numpy as np\n",
    "\n",
    "nb_epochs = 10\n",
    "\n",
    "for epoch in range(nb_epochs):\n",
    "    losses = []\n",
    "    for batch_feat, batch_sens, batch_target in dataloader:\n",
    "        optimizer.zero_grad()\n",
    "                \n",
    "        logit = model(batch_feat)\n",
    "        loss = torch.nn.functional.binary_cross_entropy_with_logits(logit, batch_target)\n",
    "        loss.backward()\n",
    "                \n",
    "        optimizer.step()\n",
    "        losses.append(loss.item())\n",
    "    print(f\"Epoch: {epoch}, loss: {np.mean(losses)}\")"
   ],
   "metadata": {
    "collapsed": false,
    "ExecuteTime": {
     "end_time": "2024-02-08T18:06:36.374645900Z",
     "start_time": "2024-02-08T18:06:33.027889Z"
    }
   },
   "id": "cd4ba74cb852b8d4"
  },
  {
   "cell_type": "markdown",
   "source": [
    "# Bias analysis in fairret\n",
    "\n",
    "Can we detect any statistical disparities (biases) in the naive model?\n",
    "\n",
    "The `fairret` library assesses these biases by comparing a (linear-fractional) Statistic computed for each sensitive features. In our example, this is for the 'SEX_Female' and 'SEX_Male' features. For example, let's look at the positive rate (= the rate at which positives are predicted for people in each group)."
   ],
   "metadata": {
    "collapsed": false
   },
   "id": "9ee41dc8676fa3b8"
  },
  {
   "cell_type": "code",
   "execution_count": 7,
   "outputs": [
    {
     "name": "stdout",
     "output_type": "stream",
     "text": [
      "The PositiveRate for group SEX_Female is 0.30833321809768677\n",
      "The PositiveRate for group SEX_Male is 0.3995041251182556\n",
      "The absolute difference is 0.09117090702056885\n"
     ]
    }
   ],
   "source": [
    "from fairret.statistic import PositiveRate\n",
    "\n",
    "statistic = PositiveRate()\n",
    "\n",
    "pred = torch.sigmoid(model(feat))\n",
    "stat_per_group = statistic(pred, feat, sens, label)\n",
    "absolute_diff = torch.abs(stat_per_group[0] - stat_per_group[1])\n",
    "\n",
    "print(f\"The {statistic.__class__.__name__} for group {sens_cols[0]} is {stat_per_group[0]}\")\n",
    "print(f\"The {statistic.__class__.__name__} for group {sens_cols[1]} is {stat_per_group[1]}\")\n",
    "print(f\"The absolute difference is {torch.abs(stat_per_group[0] - stat_per_group[1])}\")"
   ],
   "metadata": {
    "collapsed": false,
    "ExecuteTime": {
     "end_time": "2024-02-08T18:06:36.392338Z",
     "start_time": "2024-02-08T18:06:36.365083500Z"
    }
   },
   "id": "d9c2d8f9f763a563"
  },
  {
   "cell_type": "markdown",
   "source": [
    "# Bias mitigation in fairret\n",
    "\n",
    "To reduce the statistical disparity we found, we can use one of the fairrets implemented in the library. To quantify bias according to the correct statistic, we need to pass the statistic object to the fairret loss."
   ],
   "metadata": {
    "collapsed": false
   },
   "id": "4e91b13a911a6963"
  },
  {
   "cell_type": "code",
   "execution_count": 8,
   "outputs": [],
   "source": [
    "from fairret.loss import NormLoss\n",
    "\n",
    "norm_loss = NormLoss(statistic)"
   ],
   "metadata": {
    "collapsed": false,
    "ExecuteTime": {
     "end_time": "2024-02-08T18:06:36.877461300Z",
     "start_time": "2024-02-08T18:06:36.394350Z"
    }
   },
   "id": "c794c8c6dac3bea9"
  },
  {
   "cell_type": "markdown",
   "source": [
    "Let's train another model where we now add this loss term to the objective. \n",
    "\n",
    "**We only need to add one line of code to the standard PyTorch training loop!**"
   ],
   "metadata": {
    "collapsed": false
   },
   "id": "816cf465d52b6ed1"
  },
  {
   "cell_type": "code",
   "execution_count": 9,
   "outputs": [
    {
     "name": "stdout",
     "output_type": "stream",
     "text": [
      "Epoch: 0, loss: 0.6641122807155956\n",
      "Epoch: 1, loss: 0.6309726319529794\n",
      "Epoch: 2, loss: 0.6099603568965738\n",
      "Epoch: 3, loss: 0.5888651555234735\n",
      "Epoch: 4, loss: 0.5677005011926998\n",
      "Epoch: 5, loss: 0.5519148328087546\n",
      "Epoch: 6, loss: 0.5354842218485746\n",
      "Epoch: 7, loss: 0.5232194336977872\n",
      "Epoch: 8, loss: 0.5121059580282732\n",
      "Epoch: 9, loss: 0.5073323046619241\n"
     ]
    }
   ],
   "source": [
    "nb_epochs = 10\n",
    "model = torch.nn.Sequential(\n",
    "    torch.nn.Linear(feat.shape[1], h_layer_dim),\n",
    "    torch.nn.ReLU(),\n",
    "    torch.nn.Linear(h_layer_dim, 1)\n",
    ")\n",
    "optimizer = torch.optim.Adam(model.parameters(), lr=lr)\n",
    "\n",
    "for epoch in range(nb_epochs):\n",
    "    losses = []\n",
    "    for batch_feat, batch_sens, batch_target in dataloader:\n",
    "        optimizer.zero_grad()\n",
    "                \n",
    "        logit = model(batch_feat)\n",
    "        loss = torch.nn.functional.binary_cross_entropy_with_logits(logit, batch_target)\n",
    "        loss += norm_loss(logit, batch_feat, batch_sens, batch_target)\n",
    "        loss.backward()\n",
    "                \n",
    "        optimizer.step()\n",
    "        losses.append(loss.item())\n",
    "    print(f\"Epoch: {epoch}, loss: {np.mean(losses)}\")"
   ],
   "metadata": {
    "collapsed": false,
    "ExecuteTime": {
     "end_time": "2024-02-08T18:06:40.524563200Z",
     "start_time": "2024-02-08T18:06:36.877461300Z"
    }
   },
   "id": "e8e1f54235f8b623"
  },
  {
   "cell_type": "markdown",
   "source": [
    "Let's check the positive rate per group again..."
   ],
   "metadata": {
    "collapsed": false
   },
   "id": "8c405074b53ccaea"
  },
  {
   "cell_type": "code",
   "execution_count": 10,
   "outputs": [
    {
     "name": "stdout",
     "output_type": "stream",
     "text": [
      "The PositiveRate for group SEX_Female is 0.30945485830307007\n",
      "The PositiveRate for group SEX_Male is 0.31116288900375366\n",
      "The absolute difference is 0.0017080307006835938\n"
     ]
    }
   ],
   "source": [
    "pred = torch.sigmoid(model(feat))\n",
    "stat_per_group = statistic(pred, feat, sens, label)\n",
    "\n",
    "print(f\"The {statistic.__class__.__name__} for group {sens_cols[0]} is {stat_per_group[0]}\")\n",
    "print(f\"The {statistic.__class__.__name__} for group {sens_cols[1]} is {stat_per_group[1]}\")\n",
    "print(f\"The absolute difference is {torch.abs(stat_per_group[0] - stat_per_group[1])}\")"
   ],
   "metadata": {
    "collapsed": false,
    "ExecuteTime": {
     "end_time": "2024-02-08T18:06:40.544692Z",
     "start_time": "2024-02-08T18:06:40.514512300Z"
    }
   },
   "id": "657c2799f5965e8a"
  },
  {
   "cell_type": "markdown",
   "source": [
    "With a small change, the absolute difference between the statistics was reduced from 9.1% to 0.17% !\n",
    "\n",
    "Though this was a simple example, it illustrates how powerful the `fairret` paradigm can be. \n",
    "\n",
    "Feel free to go back and try out some other statistics to compare or fairret losses to minimize. Both are designed to be easily interchangeable and extensible."
   ],
   "metadata": {
    "collapsed": false
   },
   "id": "2ac5d9c371b69b49"
  },
  {
   "cell_type": "markdown",
   "source": [
    "# Further examples\n",
    "\n",
    "We plan to add more examples, including with multiple sensitive attributes. Check back later!"
   ],
   "metadata": {
    "collapsed": false
   },
   "id": "cd359b82464d98d7"
  }
 ],
 "metadata": {
  "kernelspec": {
   "display_name": "Python 3",
   "language": "python",
   "name": "python3"
  },
  "language_info": {
   "codemirror_mode": {
    "name": "ipython",
    "version": 2
   },
   "file_extension": ".py",
   "mimetype": "text/x-python",
   "name": "python",
   "nbconvert_exporter": "python",
   "pygments_lexer": "ipython2",
   "version": "2.7.6"
  }
 },
 "nbformat": 4,
 "nbformat_minor": 5
}
